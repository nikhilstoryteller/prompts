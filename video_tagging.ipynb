import csv
import asyncio
import aiohttp
import json
import pandas as pd

# URL to your prompts.json file in GitHub
PROMPTS_URL = "https://raw.githubusercontent.com/nikhilstoryteller/prompts/main/prompts.json"

# Function to fetch the prompts JSON from GitHub
async def fetch_prompts():
    async with aiohttp.ClientSession() as session:
        async with session.get(PROMPTS_URL) as response:
            response_text = await response.text()
            return json.loads(response_text)

# Asynchronous function to send a single request for frames and prompt
async def send_qwen2_request(session, frame_urls: list, prompt_key: str, prompt_text: str) -> dict:
    headers = {
        'accept': 'application/json',
        'content-type': 'application/json',
    }

    # Format the frames and prompt into the JSON structure for API request
    content = [{"type": "image_url", "image_url": {"url": frame}} for frame in frame_urls]
    content.append({"type": "text", "text": prompt_text})

    json_data = {
        "model": "qwen-qwen2-7b-instruct",
        "messages": [
            {
                "role": "user",
                "content": content
            }
        ],
        "temperature": 0.8,
        "top_p": 1,
        "n": 1,
        "max_tokens": 2048,
        "stream": False,
    }

    async with session.post(
        'https://qwen2-vl-7b-instruct2-storyteller-staging-8000.app-staging.thestoryteller.tech/v1/chat/completions',
        headers=headers,
        json=json_data,
    ) as response:
        try:
            response_json = await response.json()
            # Extract the assistant's response message
            clean_message = response_json["choices"][0]["message"]["content"].strip()
            return {
                "prompt_key": prompt_key,
                "response": clean_message
            }
        except (KeyError, IndexError):
            return {
                "prompt_key": prompt_key,
                "response": "Error parsing response"
            }

# Main asynchronous function to process all prompts for the video
async def process_qwen2_prompts_for_video(frame_urls: list, prompt_keys: list) -> list:
    prompts = await fetch_prompts()  # Fetch prompts from GitHub
    async with aiohttp.ClientSession() as session:
        # Create tasks for each prompt
        tasks = [
            send_qwen2_request(session, frame_urls, prompt_key, prompts[prompt_key])
            for prompt_key in prompt_keys
        ]
        results = await asyncio.gather(*tasks, return_exceptions=True)

    # Format results
    formatted_results = []
    for result in results:
        if isinstance(result, dict):
            formatted_results.append(result)
        elif isinstance(result, Exception):
            formatted_results.append({"error": str(result)})
    return formatted_results

# Main function to process video prompts and save results into an Excel file
async def main_with_excel_output(frame_url_csv: str, output_file: str):
    # Load frame URLs from CSV file
    frame_urls = []
    with open(frame_url_csv, 'r') as file:
        reader = csv.reader(file)
        next(reader)  # Skip the header row
        frame_urls = [row[0] for row in reader]

    # Specify the prompt keys you want to use
    prompt_keys = [
        "logo_placement",
        "resolution_quality",
        "color_palette",
        "visual_themes",
        "key_objects",
        "people_attributes",
        "text_amount",
        "text_overlay_style",
        "brand_integration",
        "background_elements",
        "vfx_elements",
        "layout_composition",
        "shot_type",
        "editing_style",
        "camera_movement",
        "lighting_style",
        "narrative_style",
        "emotional_tone",
        "cta_presence",
        "hook_presence",
        "target_audience",
        "cultural_relevance",
        "business_tags",
        "product_tags",
        "brand_cues",
        "platform_features",
        "symbols_icons",
        "depth_of_field",
        "offer_promotion",
        "hook_binary",
        "offer_binary",
        "cta_binary",
        "interactivity_binary",
        "product_presence_binary",
        "logo_presence_binary",
        "cta_specific"
    ]

    # Process all prompts for the video
    results = await process_qwen2_prompts_for_video(frame_urls, prompt_keys)

    # Convert results into a DataFrame
    data = {prompt["prompt_key"]: prompt["response"] for prompt in results if "response" in prompt}
    data["Frame URLs"] = frame_urls
    df = pd.DataFrame([data])

    # Save the DataFrame to an Excel file
    df.to_excel(output_file, index=False)
    print(f"Excel file saved at: {output_file}")

# Execute the main function
frame_url_csv = 'frame_urls_1072618564397413.csv'  # CSV containing frame URLs
output_file = 'video_prompt_results.xlsx'         # Output Excel file name
await main_with_excel_output(frame_url_csv, output_file)
